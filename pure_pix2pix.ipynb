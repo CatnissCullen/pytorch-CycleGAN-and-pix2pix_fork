{
 "cells": [
  {
   "cell_type": "markdown",
   "source": [],
   "metadata": {
    "collapsed": false
   }
  },
  {
   "cell_type": "markdown",
   "source": [
    "# My Pure Pix2Pix Implementation\n",
    "\n",
    "****\n",
    "\n"
   ],
   "metadata": {
    "collapsed": false
   }
  },
  {
   "cell_type": "markdown",
   "source": [
    "## General Presets"
   ],
   "metadata": {
    "collapsed": false
   }
  },
  {
   "cell_type": "code",
   "execution_count": 16,
   "outputs": [],
   "source": [
    "\"\"\" Import Packages \"\"\"\n",
    "\n",
    "# Numerical Operations\n",
    "import random\n",
    "import numpy as np\n",
    "# Reading/Writing/Cleaning Data\n",
    "import pandas as pd\n",
    "from PIL import Image\n",
    "import os\n",
    "import gc\n",
    "# For Progress Bar\n",
    "from tqdm.auto import tqdm\n",
    "# For Display\n",
    "import matplotlib.pyplot as plt\n",
    "import wandb as wb\n",
    "# Pytorch\n",
    "import torch\n",
    "import torch.nn as nn\n",
    "import torch.optim as optim\n",
    "import torchvision.transforms as transforms\n",
    "from torch.utils.data import ConcatDataset, DataLoader, Subset, Dataset, random_split\n",
    "from torchvision.datasets import DatasetFolder, VisionDataset\n",
    "# my_utilities\n",
    "import my_utilities\n"
   ],
   "metadata": {
    "collapsed": false,
    "ExecuteTime": {
     "start_time": "2023-10-09T20:11:54.880389Z",
     "end_time": "2023-10-09T20:11:58.025259Z"
    }
   }
  },
  {
   "cell_type": "code",
   "execution_count": 17,
   "outputs": [
    {
     "data": {
      "text/plain": "<IPython.core.display.HTML object>",
      "text/html": "Finishing last run (ID:7qhbgx4y) before initializing another..."
     },
     "metadata": {},
     "output_type": "display_data"
    },
    {
     "data": {
      "text/plain": "<IPython.core.display.HTML object>",
      "text/html": "Waiting for W&B process to finish... <strong style=\"color:green\">(success).</strong>"
     },
     "metadata": {},
     "output_type": "display_data"
    },
    {
     "data": {
      "text/plain": "<IPython.core.display.HTML object>",
      "text/html": " View run <strong style=\"color:#cdcd00\">run0</strong> at: <a href='https://wandb.ai/cullencatniss/pure_pix2pix/runs/7qhbgx4y' target=\"_blank\">https://wandb.ai/cullencatniss/pure_pix2pix/runs/7qhbgx4y</a><br/> View job at <a href='https://wandb.ai/cullencatniss/pure_pix2pix/jobs/QXJ0aWZhY3RDb2xsZWN0aW9uOjEwNTA5MTQyNQ==/version_details/v0' target=\"_blank\">https://wandb.ai/cullencatniss/pure_pix2pix/jobs/QXJ0aWZhY3RDb2xsZWN0aW9uOjEwNTA5MTQyNQ==/version_details/v0</a><br/>Synced 6 W&B file(s), 0 media file(s), 0 artifact file(s) and 0 other file(s)"
     },
     "metadata": {},
     "output_type": "display_data"
    },
    {
     "data": {
      "text/plain": "<IPython.core.display.HTML object>",
      "text/html": "Find logs at: <code>.\\wandb\\run-20231009_100746-7qhbgx4y\\logs</code>"
     },
     "metadata": {},
     "output_type": "display_data"
    },
    {
     "data": {
      "text/plain": "<IPython.core.display.HTML object>",
      "text/html": "Successfully finished last run (ID:7qhbgx4y). Initializing new run:<br/>"
     },
     "metadata": {},
     "output_type": "display_data"
    },
    {
     "data": {
      "text/plain": "VBox(children=(Label(value='Waiting for wandb.init()...\\r'), FloatProgress(value=0.011111111111111112, max=1.0…",
      "application/vnd.jupyter.widget-view+json": {
       "version_major": 2,
       "version_minor": 0,
       "model_id": "43bd6bfc2481470e958de2b9aa615eae"
      }
     },
     "metadata": {},
     "output_type": "display_data"
    },
    {
     "data": {
      "text/plain": "<IPython.core.display.HTML object>",
      "text/html": "wandb version 0.15.12 is available!  To upgrade, please run:\n $ pip install wandb --upgrade"
     },
     "metadata": {},
     "output_type": "display_data"
    },
    {
     "data": {
      "text/plain": "<IPython.core.display.HTML object>",
      "text/html": "Tracking run with wandb version 0.15.11"
     },
     "metadata": {},
     "output_type": "display_data"
    },
    {
     "data": {
      "text/plain": "<IPython.core.display.HTML object>",
      "text/html": "Run data is saved locally in <code>D:\\CAMPUS\\AI\\Essays\\PIX2PIX&CycleGAN\\pytorch-CycleGAN-and-pix2pix_fork\\wandb\\run-20231009_201158-vstmamjd</code>"
     },
     "metadata": {},
     "output_type": "display_data"
    },
    {
     "data": {
      "text/plain": "<IPython.core.display.HTML object>",
      "text/html": "Syncing run <strong><a href='https://wandb.ai/cullencatniss/pure_pix2pix/runs/vstmamjd' target=\"_blank\">run0</a></strong> to <a href='https://wandb.ai/cullencatniss/pure_pix2pix' target=\"_blank\">Weights & Biases</a> (<a href='https://wandb.me/run' target=\"_blank\">docs</a>)<br/>"
     },
     "metadata": {},
     "output_type": "display_data"
    },
    {
     "data": {
      "text/plain": "<IPython.core.display.HTML object>",
      "text/html": " View project at <a href='https://wandb.ai/cullencatniss/pure_pix2pix' target=\"_blank\">https://wandb.ai/cullencatniss/pure_pix2pix</a>"
     },
     "metadata": {},
     "output_type": "display_data"
    },
    {
     "data": {
      "text/plain": "<IPython.core.display.HTML object>",
      "text/html": " View run at <a href='https://wandb.ai/cullencatniss/pure_pix2pix/runs/vstmamjd' target=\"_blank\">https://wandb.ai/cullencatniss/pure_pix2pix/runs/vstmamjd</a>"
     },
     "metadata": {},
     "output_type": "display_data"
    },
    {
     "data": {
      "text/html": "<button onClick=\"this.nextSibling.style.display='block';this.style.display='none';\">Display W&B run</button><iframe src='https://wandb.ai/cullencatniss/pure_pix2pix/runs/vstmamjd?jupyter=true' style='border:none;width:100%;height:420px;display:none;'></iframe>",
      "text/plain": "<wandb.sdk.wandb_run.Run at 0x1bb56f36150>"
     },
     "execution_count": 17,
     "metadata": {},
     "output_type": "execute_result"
    }
   ],
   "source": [
    "\"\"\" For Display \"\"\"\n",
    "\n",
    "plt.style.use(r'C:\\Users\\chael\\.matplotlib\\violet.mplstyle')\n",
    "wb.init(project=\"pure_pix2pix\", name=\"run0\")\n"
   ],
   "metadata": {
    "collapsed": false,
    "ExecuteTime": {
     "start_time": "2023-10-09T20:11:58.029410Z",
     "end_time": "2023-10-09T20:12:55.417799Z"
    }
   }
  },
  {
   "cell_type": "code",
   "execution_count": 18,
   "outputs": [],
   "source": [
    "\"\"\" For Auto-reload Modules\"\"\"\n",
    "\n",
    "%reload_ext autoreload\n",
    "%autoreload 2"
   ],
   "metadata": {
    "collapsed": false,
    "ExecuteTime": {
     "start_time": "2023-10-09T20:12:55.404767Z",
     "end_time": "2023-10-09T20:13:02.647529Z"
    }
   }
  },
  {
   "cell_type": "code",
   "execution_count": 33,
   "outputs": [],
   "source": [
    "\"\"\" Assure Reproducibility \"\"\"\n",
    "\n",
    "seed=29\n",
    "my_utilities.assure_reproduce(seed)"
   ],
   "metadata": {
    "collapsed": false,
    "ExecuteTime": {
     "start_time": "2023-10-09T20:14:55.632681Z",
     "end_time": "2023-10-09T20:14:56.811209Z"
    }
   }
  },
  {
   "cell_type": "markdown",
   "source": [
    "## Configurations"
   ],
   "metadata": {
    "collapsed": false
   }
  },
  {
   "cell_type": "code",
   "execution_count": 34,
   "outputs": [],
   "source": [
    "\"\"\" Path & Device\"\"\"\n",
    "\n",
    "data_dir, checkpoints_dir = 'datasets/facades', 'checkpoints'\n",
    "device=my_utilities.register_device()"
   ],
   "metadata": {
    "collapsed": false,
    "ExecuteTime": {
     "start_time": "2023-10-09T20:14:56.812209Z",
     "end_time": "2023-10-09T20:14:58.059809Z"
    }
   }
  },
  {
   "cell_type": "code",
   "execution_count": 52,
   "outputs": [],
   "source": [
    "\"\"\" Rule for loading \"\"\"\n",
    "\n",
    "# 'data_load_threads' =\n",
    "# 'epoch_load' =\n",
    "model_load = 'by iters' # | by_epochs"
   ],
   "metadata": {
    "collapsed": false,
    "ExecuteTime": {
     "start_time": "2023-10-09T20:26:42.102768Z",
     "end_time": "2023-10-09T20:26:44.543365Z"
    }
   }
  },
  {
   "cell_type": "code",
   "execution_count": 50,
   "outputs": [],
   "source": [
    "\"\"\" Model \"\"\"\n",
    "\n",
    "model_name = 'pix2pix'\n",
    "translate_dirct = 'facades->photo' # | 'photo->facades',\n",
    "hyper_params = {\n",
    "    # preprocess\n",
    "    'trans': 'scale & crop', # | crop | scale width | scale width & crop | none\n",
    "    'scale_size': 286,\n",
    "    'crop_size': 256,\n",
    "    'flip': False, # whether to flip images in augmentation\n",
    "    # network architectures\n",
    "    'G_arch': 'U-net',\n",
    "    'D_arch': 'PatchGAN', # (for experiments in the paper) | PixelGAN | StdCNN\n",
    "    # 'G_layers':\n",
    "    'D_layers': 3,\n",
    "    'in_chan': 3,\n",
    "    'out_chan': 3,\n",
    "    'G_fil_lst': 64, # num. of filters in G's last conv. layer\n",
    "    'D_fil_fst': 64, # num. of filters in D's first conv. layer\n",
    "    # training \"\"\"\n",
    "    # 'init_type':\n",
    "    'init_scaler': 0.02, # scaling factor for weight initialization\n",
    "    'shuffle_batch': True,\n",
    "    'batch_size': 16,\n",
    "    'norm_type': 'instance', # (for experiments in the paper) | batch | none\n",
    "    'G_dropout': False, # no dropout for G in the paper\n",
    "    'D_dropout': True,\n",
    "}\n",
    "\n",
    "wb.config.update({'translate_dirct': translate_dirct, **hyper_params})"
   ],
   "metadata": {
    "collapsed": false,
    "ExecuteTime": {
     "start_time": "2023-10-09T20:26:07.798980Z",
     "end_time": "2023-10-09T20:26:09.342610Z"
    }
   }
  },
  {
   "cell_type": "code",
   "execution_count": 53,
   "outputs": [
    {
     "name": "stdout",
     "output_type": "stream",
     "text": [
      "============CONFIGURATIONS============\n",
      "Device = cuda\n",
      "Model is loaded by iters\n",
      "Model = pix2pix\n",
      "Translation Dirct. = facades->photo\n",
      "--------------------------------------\n",
      "Transforms Opt. = scale & crop\n",
      "Img. Scale Size = 286\n",
      "Img. Crop Size = 256\n",
      "Flipped = False\n",
      "--------------------------------------\n",
      "G's Arch. = U-net\n",
      "D's Arch. = PatchGAN\n",
      "num. of D's layers = 3\n",
      "num. of Input's Channels = 3\n",
      "num. of Output's Channels = 3\n",
      "--------------------------------------\n",
      "Batch Size = 16\n",
      "Normalization = instance\n",
      "G's Dropout = False\n",
      "D's Dropout = True\n",
      "======================================\n"
     ]
    }
   ],
   "source": [
    "my_utilities.print_config(device, model_load, model_name, translate_dirct, hyper_params)"
   ],
   "metadata": {
    "collapsed": false,
    "ExecuteTime": {
     "start_time": "2023-10-09T20:26:47.272994Z",
     "end_time": "2023-10-09T20:26:48.785332Z"
    }
   }
  },
  {
   "cell_type": "code",
   "execution_count": null,
   "outputs": [],
   "source": [],
   "metadata": {
    "collapsed": false
   }
  }
 ],
 "metadata": {
  "kernelspec": {
   "display_name": "Python 3",
   "language": "python",
   "name": "python3"
  },
  "language_info": {
   "codemirror_mode": {
    "name": "ipython",
    "version": 2
   },
   "file_extension": ".py",
   "mimetype": "text/x-python",
   "name": "python",
   "nbconvert_exporter": "python",
   "pygments_lexer": "ipython2",
   "version": "2.7.6"
  }
 },
 "nbformat": 4,
 "nbformat_minor": 0
}
